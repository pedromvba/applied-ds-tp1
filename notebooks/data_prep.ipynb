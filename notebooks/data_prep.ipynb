{
 "cells": [
  {
   "cell_type": "markdown",
   "metadata": {},
   "source": [
    "# Data Preparation "
   ]
  },
  {
   "cell_type": "code",
   "execution_count": 22,
   "metadata": {},
   "outputs": [],
   "source": [
    "import pandas as pd\n",
    "import json"
   ]
  },
  {
   "cell_type": "markdown",
   "metadata": {},
   "source": [
    "## Reading Data"
   ]
  },
  {
   "cell_type": "code",
   "execution_count": 23,
   "metadata": {},
   "outputs": [],
   "source": [
    "raw_df = pd.read_csv('../data/01_raw/roraima_with_procedures.csv')"
   ]
  },
  {
   "cell_type": "code",
   "execution_count": 24,
   "metadata": {},
   "outputs": [
    {
     "data": {
      "text/html": [
       "<div>\n",
       "<style scoped>\n",
       "    .dataframe tbody tr th:only-of-type {\n",
       "        vertical-align: middle;\n",
       "    }\n",
       "\n",
       "    .dataframe tbody tr th {\n",
       "        vertical-align: top;\n",
       "    }\n",
       "\n",
       "    .dataframe thead th {\n",
       "        text-align: right;\n",
       "    }\n",
       "</style>\n",
       "<table border=\"1\" class=\"dataframe\">\n",
       "  <thead>\n",
       "    <tr style=\"text-align: right;\">\n",
       "      <th></th>\n",
       "      <th>quantidade_procedimentos</th>\n",
       "      <th>mes</th>\n",
       "      <th>ano</th>\n",
       "      <th>sigla_uf</th>\n",
       "      <th>valor_ato_profissional</th>\n",
       "      <th>id_municipio_estabelecimento_aih</th>\n",
       "      <th>id_municipio_paciente</th>\n",
       "      <th>id_procedimento_principal</th>\n",
       "    </tr>\n",
       "  </thead>\n",
       "  <tbody>\n",
       "    <tr>\n",
       "      <th>0</th>\n",
       "      <td>1</td>\n",
       "      <td>2</td>\n",
       "      <td>2023</td>\n",
       "      <td>RR</td>\n",
       "      <td>1317.32</td>\n",
       "      <td>1400100</td>\n",
       "      <td>140010</td>\n",
       "      <td>408050063</td>\n",
       "    </tr>\n",
       "    <tr>\n",
       "      <th>1</th>\n",
       "      <td>2</td>\n",
       "      <td>2</td>\n",
       "      <td>2023</td>\n",
       "      <td>RR</td>\n",
       "      <td>0.00</td>\n",
       "      <td>1400100</td>\n",
       "      <td>140010</td>\n",
       "      <td>408050063</td>\n",
       "    </tr>\n",
       "    <tr>\n",
       "      <th>2</th>\n",
       "      <td>2</td>\n",
       "      <td>2</td>\n",
       "      <td>2023</td>\n",
       "      <td>RR</td>\n",
       "      <td>0.00</td>\n",
       "      <td>1400100</td>\n",
       "      <td>140010</td>\n",
       "      <td>408050063</td>\n",
       "    </tr>\n",
       "    <tr>\n",
       "      <th>3</th>\n",
       "      <td>1</td>\n",
       "      <td>2</td>\n",
       "      <td>2023</td>\n",
       "      <td>RR</td>\n",
       "      <td>12.39</td>\n",
       "      <td>1400100</td>\n",
       "      <td>140010</td>\n",
       "      <td>408050063</td>\n",
       "    </tr>\n",
       "    <tr>\n",
       "      <th>4</th>\n",
       "      <td>2</td>\n",
       "      <td>2</td>\n",
       "      <td>2023</td>\n",
       "      <td>RR</td>\n",
       "      <td>0.00</td>\n",
       "      <td>1400100</td>\n",
       "      <td>140010</td>\n",
       "      <td>408050063</td>\n",
       "    </tr>\n",
       "  </tbody>\n",
       "</table>\n",
       "</div>"
      ],
      "text/plain": [
       "   quantidade_procedimentos  mes   ano sigla_uf  valor_ato_profissional  \\\n",
       "0                         1    2  2023       RR                 1317.32   \n",
       "1                         2    2  2023       RR                    0.00   \n",
       "2                         2    2  2023       RR                    0.00   \n",
       "3                         1    2  2023       RR                   12.39   \n",
       "4                         2    2  2023       RR                    0.00   \n",
       "\n",
       "   id_municipio_estabelecimento_aih  id_municipio_paciente  \\\n",
       "0                           1400100                 140010   \n",
       "1                           1400100                 140010   \n",
       "2                           1400100                 140010   \n",
       "3                           1400100                 140010   \n",
       "4                           1400100                 140010   \n",
       "\n",
       "   id_procedimento_principal  \n",
       "0                  408050063  \n",
       "1                  408050063  \n",
       "2                  408050063  \n",
       "3                  408050063  \n",
       "4                  408050063  "
      ]
     },
     "execution_count": 24,
     "metadata": {},
     "output_type": "execute_result"
    }
   ],
   "source": [
    "raw_df.head()"
   ]
  },
  {
   "cell_type": "code",
   "execution_count": 25,
   "metadata": {},
   "outputs": [
    {
     "name": "stdout",
     "output_type": "stream",
     "text": [
      "<class 'pandas.core.frame.DataFrame'>\n",
      "RangeIndex: 2459018 entries, 0 to 2459017\n",
      "Data columns (total 8 columns):\n",
      " #   Column                            Dtype  \n",
      "---  ------                            -----  \n",
      " 0   quantidade_procedimentos          int64  \n",
      " 1   mes                               int64  \n",
      " 2   ano                               int64  \n",
      " 3   sigla_uf                          object \n",
      " 4   valor_ato_profissional            float64\n",
      " 5   id_municipio_estabelecimento_aih  int64  \n",
      " 6   id_municipio_paciente             int64  \n",
      " 7   id_procedimento_principal         int64  \n",
      "dtypes: float64(1), int64(6), object(1)\n",
      "memory usage: 150.1+ MB\n"
     ]
    }
   ],
   "source": [
    "raw_df.info()"
   ]
  },
  {
   "cell_type": "markdown",
   "metadata": {},
   "source": [
    "# Converting Ids to Strings"
   ]
  },
  {
   "cell_type": "code",
   "execution_count": 26,
   "metadata": {},
   "outputs": [
    {
     "name": "stdout",
     "output_type": "stream",
     "text": [
      "<class 'pandas.core.frame.DataFrame'>\n",
      "RangeIndex: 2459018 entries, 0 to 2459017\n",
      "Data columns (total 8 columns):\n",
      " #   Column                            Dtype  \n",
      "---  ------                            -----  \n",
      " 0   quantidade_procedimentos          int64  \n",
      " 1   mes                               int64  \n",
      " 2   ano                               int64  \n",
      " 3   sigla_uf                          object \n",
      " 4   valor_ato_profissional            float64\n",
      " 5   id_municipio_estabelecimento_aih  object \n",
      " 6   id_municipio_paciente             object \n",
      " 7   id_procedimento_principal         object \n",
      "dtypes: float64(1), int64(3), object(4)\n",
      "memory usage: 150.1+ MB\n"
     ]
    }
   ],
   "source": [
    "raw_df['id_municipio_estabelecimento_aih'] = raw_df['id_municipio_estabelecimento_aih'].astype(str)\n",
    "raw_df['id_municipio_paciente'] = raw_df['id_municipio_paciente'].astype(str)\n",
    "raw_df['id_procedimento_principal'] = raw_df['id_procedimento_principal'].astype(str)\n",
    "raw_df.info()"
   ]
  },
  {
   "cell_type": "markdown",
   "metadata": {},
   "source": [
    "## Removing id_municipio_estabelecimento_aih digit\n"
   ]
  },
  {
   "cell_type": "code",
   "execution_count": 27,
   "metadata": {},
   "outputs": [
    {
     "data": {
      "text/html": [
       "<div>\n",
       "<style scoped>\n",
       "    .dataframe tbody tr th:only-of-type {\n",
       "        vertical-align: middle;\n",
       "    }\n",
       "\n",
       "    .dataframe tbody tr th {\n",
       "        vertical-align: top;\n",
       "    }\n",
       "\n",
       "    .dataframe thead th {\n",
       "        text-align: right;\n",
       "    }\n",
       "</style>\n",
       "<table border=\"1\" class=\"dataframe\">\n",
       "  <thead>\n",
       "    <tr style=\"text-align: right;\">\n",
       "      <th></th>\n",
       "      <th>quantidade_procedimentos</th>\n",
       "      <th>mes</th>\n",
       "      <th>ano</th>\n",
       "      <th>sigla_uf</th>\n",
       "      <th>valor_ato_profissional</th>\n",
       "      <th>id_municipio_estabelecimento_aih</th>\n",
       "      <th>id_municipio_paciente</th>\n",
       "      <th>id_procedimento_principal</th>\n",
       "    </tr>\n",
       "  </thead>\n",
       "  <tbody>\n",
       "    <tr>\n",
       "      <th>0</th>\n",
       "      <td>1</td>\n",
       "      <td>2</td>\n",
       "      <td>2023</td>\n",
       "      <td>RR</td>\n",
       "      <td>1317.32</td>\n",
       "      <td>140010</td>\n",
       "      <td>140010</td>\n",
       "      <td>408050063</td>\n",
       "    </tr>\n",
       "    <tr>\n",
       "      <th>1</th>\n",
       "      <td>2</td>\n",
       "      <td>2</td>\n",
       "      <td>2023</td>\n",
       "      <td>RR</td>\n",
       "      <td>0.00</td>\n",
       "      <td>140010</td>\n",
       "      <td>140010</td>\n",
       "      <td>408050063</td>\n",
       "    </tr>\n",
       "    <tr>\n",
       "      <th>2</th>\n",
       "      <td>2</td>\n",
       "      <td>2</td>\n",
       "      <td>2023</td>\n",
       "      <td>RR</td>\n",
       "      <td>0.00</td>\n",
       "      <td>140010</td>\n",
       "      <td>140010</td>\n",
       "      <td>408050063</td>\n",
       "    </tr>\n",
       "    <tr>\n",
       "      <th>3</th>\n",
       "      <td>1</td>\n",
       "      <td>2</td>\n",
       "      <td>2023</td>\n",
       "      <td>RR</td>\n",
       "      <td>12.39</td>\n",
       "      <td>140010</td>\n",
       "      <td>140010</td>\n",
       "      <td>408050063</td>\n",
       "    </tr>\n",
       "    <tr>\n",
       "      <th>4</th>\n",
       "      <td>2</td>\n",
       "      <td>2</td>\n",
       "      <td>2023</td>\n",
       "      <td>RR</td>\n",
       "      <td>0.00</td>\n",
       "      <td>140010</td>\n",
       "      <td>140010</td>\n",
       "      <td>408050063</td>\n",
       "    </tr>\n",
       "    <tr>\n",
       "      <th>...</th>\n",
       "      <td>...</td>\n",
       "      <td>...</td>\n",
       "      <td>...</td>\n",
       "      <td>...</td>\n",
       "      <td>...</td>\n",
       "      <td>...</td>\n",
       "      <td>...</td>\n",
       "      <td>...</td>\n",
       "    </tr>\n",
       "    <tr>\n",
       "      <th>2459013</th>\n",
       "      <td>12</td>\n",
       "      <td>8</td>\n",
       "      <td>2020</td>\n",
       "      <td>RR</td>\n",
       "      <td>0.00</td>\n",
       "      <td>140010</td>\n",
       "      <td>140010</td>\n",
       "      <td>303140151</td>\n",
       "    </tr>\n",
       "    <tr>\n",
       "      <th>2459014</th>\n",
       "      <td>12</td>\n",
       "      <td>8</td>\n",
       "      <td>2020</td>\n",
       "      <td>RR</td>\n",
       "      <td>115.20</td>\n",
       "      <td>140010</td>\n",
       "      <td>140010</td>\n",
       "      <td>303110040</td>\n",
       "    </tr>\n",
       "    <tr>\n",
       "      <th>2459015</th>\n",
       "      <td>12</td>\n",
       "      <td>8</td>\n",
       "      <td>2020</td>\n",
       "      <td>RR</td>\n",
       "      <td>96.00</td>\n",
       "      <td>140010</td>\n",
       "      <td>140047</td>\n",
       "      <td>303010223</td>\n",
       "    </tr>\n",
       "    <tr>\n",
       "      <th>2459016</th>\n",
       "      <td>12</td>\n",
       "      <td>8</td>\n",
       "      <td>2020</td>\n",
       "      <td>RR</td>\n",
       "      <td>115.20</td>\n",
       "      <td>140010</td>\n",
       "      <td>140010</td>\n",
       "      <td>303100044</td>\n",
       "    </tr>\n",
       "    <tr>\n",
       "      <th>2459017</th>\n",
       "      <td>12</td>\n",
       "      <td>8</td>\n",
       "      <td>2020</td>\n",
       "      <td>RR</td>\n",
       "      <td>0.00</td>\n",
       "      <td>140010</td>\n",
       "      <td>140010</td>\n",
       "      <td>303100044</td>\n",
       "    </tr>\n",
       "  </tbody>\n",
       "</table>\n",
       "<p>2459018 rows × 8 columns</p>\n",
       "</div>"
      ],
      "text/plain": [
       "         quantidade_procedimentos  mes   ano sigla_uf  valor_ato_profissional  \\\n",
       "0                               1    2  2023       RR                 1317.32   \n",
       "1                               2    2  2023       RR                    0.00   \n",
       "2                               2    2  2023       RR                    0.00   \n",
       "3                               1    2  2023       RR                   12.39   \n",
       "4                               2    2  2023       RR                    0.00   \n",
       "...                           ...  ...   ...      ...                     ...   \n",
       "2459013                        12    8  2020       RR                    0.00   \n",
       "2459014                        12    8  2020       RR                  115.20   \n",
       "2459015                        12    8  2020       RR                   96.00   \n",
       "2459016                        12    8  2020       RR                  115.20   \n",
       "2459017                        12    8  2020       RR                    0.00   \n",
       "\n",
       "        id_municipio_estabelecimento_aih id_municipio_paciente  \\\n",
       "0                                 140010                140010   \n",
       "1                                 140010                140010   \n",
       "2                                 140010                140010   \n",
       "3                                 140010                140010   \n",
       "4                                 140010                140010   \n",
       "...                                  ...                   ...   \n",
       "2459013                           140010                140010   \n",
       "2459014                           140010                140010   \n",
       "2459015                           140010                140047   \n",
       "2459016                           140010                140010   \n",
       "2459017                           140010                140010   \n",
       "\n",
       "        id_procedimento_principal  \n",
       "0                       408050063  \n",
       "1                       408050063  \n",
       "2                       408050063  \n",
       "3                       408050063  \n",
       "4                       408050063  \n",
       "...                           ...  \n",
       "2459013                 303140151  \n",
       "2459014                 303110040  \n",
       "2459015                 303010223  \n",
       "2459016                 303100044  \n",
       "2459017                 303100044  \n",
       "\n",
       "[2459018 rows x 8 columns]"
      ]
     },
     "execution_count": 27,
     "metadata": {},
     "output_type": "execute_result"
    }
   ],
   "source": [
    "raw_df['id_municipio_estabelecimento_aih'] = raw_df['id_municipio_estabelecimento_aih'].apply(lambda x: x[:-1])\n",
    "raw_df"
   ]
  },
  {
   "cell_type": "markdown",
   "metadata": {},
   "source": [
    "## Filtering Cities by States of Roraima and Amazonas"
   ]
  },
  {
   "cell_type": "code",
   "execution_count": 28,
   "metadata": {},
   "outputs": [
    {
     "data": {
      "text/html": [
       "<div>\n",
       "<style scoped>\n",
       "    .dataframe tbody tr th:only-of-type {\n",
       "        vertical-align: middle;\n",
       "    }\n",
       "\n",
       "    .dataframe tbody tr th {\n",
       "        vertical-align: top;\n",
       "    }\n",
       "\n",
       "    .dataframe thead th {\n",
       "        text-align: right;\n",
       "    }\n",
       "</style>\n",
       "<table border=\"1\" class=\"dataframe\">\n",
       "  <thead>\n",
       "    <tr style=\"text-align: right;\">\n",
       "      <th></th>\n",
       "      <th>quantidade_procedimentos</th>\n",
       "      <th>mes</th>\n",
       "      <th>ano</th>\n",
       "      <th>sigla_uf</th>\n",
       "      <th>valor_ato_profissional</th>\n",
       "      <th>id_municipio_estabelecimento_aih</th>\n",
       "      <th>id_municipio_paciente</th>\n",
       "      <th>id_procedimento_principal</th>\n",
       "    </tr>\n",
       "  </thead>\n",
       "  <tbody>\n",
       "    <tr>\n",
       "      <th>0</th>\n",
       "      <td>1</td>\n",
       "      <td>2</td>\n",
       "      <td>2023</td>\n",
       "      <td>RR</td>\n",
       "      <td>1317.32</td>\n",
       "      <td>140010</td>\n",
       "      <td>140010</td>\n",
       "      <td>408050063</td>\n",
       "    </tr>\n",
       "    <tr>\n",
       "      <th>1</th>\n",
       "      <td>2</td>\n",
       "      <td>2</td>\n",
       "      <td>2023</td>\n",
       "      <td>RR</td>\n",
       "      <td>0.00</td>\n",
       "      <td>140010</td>\n",
       "      <td>140010</td>\n",
       "      <td>408050063</td>\n",
       "    </tr>\n",
       "    <tr>\n",
       "      <th>2</th>\n",
       "      <td>2</td>\n",
       "      <td>2</td>\n",
       "      <td>2023</td>\n",
       "      <td>RR</td>\n",
       "      <td>0.00</td>\n",
       "      <td>140010</td>\n",
       "      <td>140010</td>\n",
       "      <td>408050063</td>\n",
       "    </tr>\n",
       "    <tr>\n",
       "      <th>3</th>\n",
       "      <td>1</td>\n",
       "      <td>2</td>\n",
       "      <td>2023</td>\n",
       "      <td>RR</td>\n",
       "      <td>12.39</td>\n",
       "      <td>140010</td>\n",
       "      <td>140010</td>\n",
       "      <td>408050063</td>\n",
       "    </tr>\n",
       "    <tr>\n",
       "      <th>4</th>\n",
       "      <td>2</td>\n",
       "      <td>2</td>\n",
       "      <td>2023</td>\n",
       "      <td>RR</td>\n",
       "      <td>0.00</td>\n",
       "      <td>140010</td>\n",
       "      <td>140010</td>\n",
       "      <td>408050063</td>\n",
       "    </tr>\n",
       "    <tr>\n",
       "      <th>...</th>\n",
       "      <td>...</td>\n",
       "      <td>...</td>\n",
       "      <td>...</td>\n",
       "      <td>...</td>\n",
       "      <td>...</td>\n",
       "      <td>...</td>\n",
       "      <td>...</td>\n",
       "      <td>...</td>\n",
       "    </tr>\n",
       "    <tr>\n",
       "      <th>2459013</th>\n",
       "      <td>12</td>\n",
       "      <td>8</td>\n",
       "      <td>2020</td>\n",
       "      <td>RR</td>\n",
       "      <td>0.00</td>\n",
       "      <td>140010</td>\n",
       "      <td>140010</td>\n",
       "      <td>303140151</td>\n",
       "    </tr>\n",
       "    <tr>\n",
       "      <th>2459014</th>\n",
       "      <td>12</td>\n",
       "      <td>8</td>\n",
       "      <td>2020</td>\n",
       "      <td>RR</td>\n",
       "      <td>115.20</td>\n",
       "      <td>140010</td>\n",
       "      <td>140010</td>\n",
       "      <td>303110040</td>\n",
       "    </tr>\n",
       "    <tr>\n",
       "      <th>2459015</th>\n",
       "      <td>12</td>\n",
       "      <td>8</td>\n",
       "      <td>2020</td>\n",
       "      <td>RR</td>\n",
       "      <td>96.00</td>\n",
       "      <td>140010</td>\n",
       "      <td>140047</td>\n",
       "      <td>303010223</td>\n",
       "    </tr>\n",
       "    <tr>\n",
       "      <th>2459016</th>\n",
       "      <td>12</td>\n",
       "      <td>8</td>\n",
       "      <td>2020</td>\n",
       "      <td>RR</td>\n",
       "      <td>115.20</td>\n",
       "      <td>140010</td>\n",
       "      <td>140010</td>\n",
       "      <td>303100044</td>\n",
       "    </tr>\n",
       "    <tr>\n",
       "      <th>2459017</th>\n",
       "      <td>12</td>\n",
       "      <td>8</td>\n",
       "      <td>2020</td>\n",
       "      <td>RR</td>\n",
       "      <td>0.00</td>\n",
       "      <td>140010</td>\n",
       "      <td>140010</td>\n",
       "      <td>303100044</td>\n",
       "    </tr>\n",
       "  </tbody>\n",
       "</table>\n",
       "<p>2447702 rows × 8 columns</p>\n",
       "</div>"
      ],
      "text/plain": [
       "         quantidade_procedimentos  mes   ano sigla_uf  valor_ato_profissional  \\\n",
       "0                               1    2  2023       RR                 1317.32   \n",
       "1                               2    2  2023       RR                    0.00   \n",
       "2                               2    2  2023       RR                    0.00   \n",
       "3                               1    2  2023       RR                   12.39   \n",
       "4                               2    2  2023       RR                    0.00   \n",
       "...                           ...  ...   ...      ...                     ...   \n",
       "2459013                        12    8  2020       RR                    0.00   \n",
       "2459014                        12    8  2020       RR                  115.20   \n",
       "2459015                        12    8  2020       RR                   96.00   \n",
       "2459016                        12    8  2020       RR                  115.20   \n",
       "2459017                        12    8  2020       RR                    0.00   \n",
       "\n",
       "        id_municipio_estabelecimento_aih id_municipio_paciente  \\\n",
       "0                                 140010                140010   \n",
       "1                                 140010                140010   \n",
       "2                                 140010                140010   \n",
       "3                                 140010                140010   \n",
       "4                                 140010                140010   \n",
       "...                                  ...                   ...   \n",
       "2459013                           140010                140010   \n",
       "2459014                           140010                140010   \n",
       "2459015                           140010                140047   \n",
       "2459016                           140010                140010   \n",
       "2459017                           140010                140010   \n",
       "\n",
       "        id_procedimento_principal  \n",
       "0                       408050063  \n",
       "1                       408050063  \n",
       "2                       408050063  \n",
       "3                       408050063  \n",
       "4                       408050063  \n",
       "...                           ...  \n",
       "2459013                 303140151  \n",
       "2459014                 303110040  \n",
       "2459015                 303010223  \n",
       "2459016                 303100044  \n",
       "2459017                 303100044  \n",
       "\n",
       "[2447702 rows x 8 columns]"
      ]
     },
     "execution_count": 28,
     "metadata": {},
     "output_type": "execute_result"
    }
   ],
   "source": [
    "filtered_df =raw_df[\n",
    "        (raw_df['id_municipio_paciente'].str.startswith('14','13'))]\n",
    "\n",
    "filtered_df\n",
    "\n"
   ]
  },
  {
   "cell_type": "code",
   "execution_count": 29,
   "metadata": {},
   "outputs": [
    {
     "data": {
      "text/plain": [
       "0.46018369934665015"
      ]
     },
     "execution_count": 29,
     "metadata": {},
     "output_type": "execute_result"
    }
   ],
   "source": [
    "# outliers percentage\n",
    "outliers_percent = 100*(1-(filtered_df.shape[0]/raw_df.shape[0]))\n",
    "outliers_percent"
   ]
  },
  {
   "cell_type": "code",
   "execution_count": 30,
   "metadata": {},
   "outputs": [
    {
     "data": {
      "text/plain": [
       "array(['140010', '140017', '140045', '140060', '140002', '140040',\n",
       "       '140047', '140020', '140028', '140050', '140030', '140005',\n",
       "       '140015', '140070', '140023'], dtype=object)"
      ]
     },
     "execution_count": 30,
     "metadata": {},
     "output_type": "execute_result"
    }
   ],
   "source": [
    "filtered_df['id_municipio_paciente'].unique()"
   ]
  },
  {
   "cell_type": "markdown",
   "metadata": {},
   "source": [
    "## Mapping City Names"
   ]
  },
  {
   "cell_type": "code",
   "execution_count": 31,
   "metadata": {},
   "outputs": [],
   "source": [
    "mapping_df = filtered_df.copy()\n",
    "\n",
    "city_data = pd.read_json('../data/01_raw/cities.json')\n",
    "city_data['id'] = city_data['id'].astype(str)\n",
    "\n",
    "city_names = city_data.set_index('id')['city'].to_dict()\n",
    "mapping_df['municipio_paciente'] = mapping_df['id_municipio_paciente'].map(city_names)\n",
    "mapping_df['municipio_atendimento'] = mapping_df['id_municipio_estabelecimento_aih'].map(city_names)\n"
   ]
  },
  {
   "cell_type": "code",
   "execution_count": 32,
   "metadata": {},
   "outputs": [
    {
     "data": {
      "text/plain": [
       "array(['Boa Vista', 'Canta', 'Pacaraima', 'São Luiz', 'Amajari',\n",
       "       'Normandia', 'Rorainopolis', 'Caracarai', 'Iracema',\n",
       "       'Sao Joao da Baliza', 'Mucajai', 'Alto Alegre', 'Bomfim',\n",
       "       'Uiramuta', 'Caroebe'], dtype=object)"
      ]
     },
     "execution_count": 32,
     "metadata": {},
     "output_type": "execute_result"
    }
   ],
   "source": [
    "mapping_df['municipio_paciente'].unique()"
   ]
  },
  {
   "cell_type": "code",
   "execution_count": 33,
   "metadata": {},
   "outputs": [
    {
     "data": {
      "text/plain": [
       "array(['Boa Vista', 'Bomfim', 'Normandia', 'São Luiz', 'Caracarai',\n",
       "       'Sao Joao da Baliza', 'Caroebe', 'Pacaraima', 'Alto Alegre',\n",
       "       'Rorainopolis', 'Mucajai'], dtype=object)"
      ]
     },
     "execution_count": 33,
     "metadata": {},
     "output_type": "execute_result"
    }
   ],
   "source": [
    "mapping_df['municipio_atendimento'].unique()"
   ]
  },
  {
   "cell_type": "markdown",
   "metadata": {},
   "source": [
    "## Mapping Procedure Names"
   ]
  },
  {
   "cell_type": "code",
   "execution_count": 34,
   "metadata": {},
   "outputs": [
    {
     "data": {
      "text/plain": [
       "0                      ARTROPLASTIA TOTAL PRIMARIA DO JOELHO\n",
       "1                      ARTROPLASTIA TOTAL PRIMARIA DO JOELHO\n",
       "2                      ARTROPLASTIA TOTAL PRIMARIA DO JOELHO\n",
       "3                      ARTROPLASTIA TOTAL PRIMARIA DO JOELHO\n",
       "4                      ARTROPLASTIA TOTAL PRIMARIA DO JOELHO\n",
       "                                 ...                        \n",
       "2459013        TRATAMENTO DE PNEUMONIAS OU INFLUENZA (GRIPE)\n",
       "2459014    TRATAMENTO DE MALFORMACOES CONGENITAS DO APARE...\n",
       "2459015                                                  NaN\n",
       "2459016    TRATAMENTO DE INTERCORRENCIAS CLINICAS NA GRAV...\n",
       "2459017    TRATAMENTO DE INTERCORRENCIAS CLINICAS NA GRAV...\n",
       "Name: procedimento_principal, Length: 2447702, dtype: object"
      ]
     },
     "execution_count": 34,
     "metadata": {},
     "output_type": "execute_result"
    }
   ],
   "source": [
    "procedure_names = pd.read_csv('../data/01_raw/procedure_names.csv', dtype=str)\n",
    "procedure_dict = procedure_names.set_index('CÓDIGO')['PROCEDIMENTO'].to_dict()\n",
    "\n",
    "mapping_df['procedimento_principal'] = mapping_df['id_procedimento_principal'].map(procedure_dict) # mapping the procedimento\n",
    "mapping_df['procedimento_principal']\n",
    "\n"
   ]
  },
  {
   "cell_type": "markdown",
   "metadata": {},
   "source": [
    "## Dropping Values That Couldn't be Identified"
   ]
  },
  {
   "cell_type": "code",
   "execution_count": 35,
   "metadata": {},
   "outputs": [
    {
     "data": {
      "text/plain": [
       "quantidade_procedimentos                 0\n",
       "mes                                      0\n",
       "ano                                      0\n",
       "sigla_uf                                 0\n",
       "valor_ato_profissional                   0\n",
       "id_municipio_estabelecimento_aih         0\n",
       "id_municipio_paciente                    0\n",
       "id_procedimento_principal                0\n",
       "municipio_paciente                       0\n",
       "municipio_atendimento                    0\n",
       "procedimento_principal              288785\n",
       "dtype: int64"
      ]
     },
     "execution_count": 35,
     "metadata": {},
     "output_type": "execute_result"
    }
   ],
   "source": [
    "processed_df = mapping_df.copy()\n",
    "processed_df.isnull().sum()\n",
    "\n"
   ]
  },
  {
   "cell_type": "code",
   "execution_count": 36,
   "metadata": {},
   "outputs": [
    {
     "data": {
      "text/plain": [
       "11.798209095715082"
      ]
     },
     "execution_count": 36,
     "metadata": {},
     "output_type": "execute_result"
    }
   ],
   "source": [
    "# percentage of data to be dropped\n",
    "100*(processed_df.isnull().sum()['procedimento_principal']/processed_df.shape[0])"
   ]
  },
  {
   "cell_type": "code",
   "execution_count": 37,
   "metadata": {},
   "outputs": [],
   "source": [
    "processed_df.dropna(axis=0, how='any', inplace=True)"
   ]
  },
  {
   "cell_type": "code",
   "execution_count": 38,
   "metadata": {},
   "outputs": [],
   "source": [
    "processed_df = processed_df.reset_index(drop = True)"
   ]
  },
  {
   "cell_type": "code",
   "execution_count": 39,
   "metadata": {},
   "outputs": [
    {
     "name": "stdout",
     "output_type": "stream",
     "text": [
      "<class 'pandas.core.frame.DataFrame'>\n",
      "RangeIndex: 2158917 entries, 0 to 2158916\n",
      "Data columns (total 11 columns):\n",
      " #   Column                            Dtype  \n",
      "---  ------                            -----  \n",
      " 0   quantidade_procedimentos          int64  \n",
      " 1   mes                               int64  \n",
      " 2   ano                               int64  \n",
      " 3   sigla_uf                          object \n",
      " 4   valor_ato_profissional            float64\n",
      " 5   id_municipio_estabelecimento_aih  object \n",
      " 6   id_municipio_paciente             object \n",
      " 7   id_procedimento_principal         object \n",
      " 8   municipio_paciente                object \n",
      " 9   municipio_atendimento             object \n",
      " 10  procedimento_principal            object \n",
      "dtypes: float64(1), int64(3), object(7)\n",
      "memory usage: 181.2+ MB\n"
     ]
    }
   ],
   "source": [
    "processed_df.info()"
   ]
  },
  {
   "cell_type": "code",
   "execution_count": 40,
   "metadata": {},
   "outputs": [
    {
     "data": {
      "text/plain": [
       "quantidade_procedimentos            0\n",
       "mes                                 0\n",
       "ano                                 0\n",
       "sigla_uf                            0\n",
       "valor_ato_profissional              0\n",
       "id_municipio_estabelecimento_aih    0\n",
       "id_municipio_paciente               0\n",
       "id_procedimento_principal           0\n",
       "municipio_paciente                  0\n",
       "municipio_atendimento               0\n",
       "procedimento_principal              0\n",
       "dtype: int64"
      ]
     },
     "execution_count": 40,
     "metadata": {},
     "output_type": "execute_result"
    }
   ],
   "source": [
    "null_counts = processed_df.isnull().sum()\n",
    "null_counts"
   ]
  },
  {
   "cell_type": "markdown",
   "metadata": {},
   "source": [
    "## Dropping converted columns\n"
   ]
  },
  {
   "cell_type": "code",
   "execution_count": 41,
   "metadata": {},
   "outputs": [
    {
     "name": "stdout",
     "output_type": "stream",
     "text": [
      "<class 'pandas.core.frame.DataFrame'>\n",
      "RangeIndex: 2158917 entries, 0 to 2158916\n",
      "Data columns (total 8 columns):\n",
      " #   Column                    Dtype  \n",
      "---  ------                    -----  \n",
      " 0   quantidade_procedimentos  int64  \n",
      " 1   mes                       int64  \n",
      " 2   ano                       int64  \n",
      " 3   sigla_uf                  object \n",
      " 4   valor_ato_profissional    float64\n",
      " 5   municipio_paciente        object \n",
      " 6   municipio_atendimento     object \n",
      " 7   procedimento_principal    object \n",
      "dtypes: float64(1), int64(3), object(4)\n",
      "memory usage: 131.8+ MB\n"
     ]
    }
   ],
   "source": [
    "processed_df.drop(axis=1, \n",
    "                  columns=['id_municipio_estabelecimento_aih', \n",
    "                           'id_municipio_paciente',\n",
    "                           'id_procedimento_principal'],\n",
    "                  inplace=True)\n",
    "\n",
    "processed_df.info()"
   ]
  },
  {
   "cell_type": "markdown",
   "metadata": {},
   "source": [
    "## Saving Processed Data"
   ]
  },
  {
   "cell_type": "code",
   "execution_count": 42,
   "metadata": {},
   "outputs": [],
   "source": [
    "processed_df.to_csv('../data/02_processed/processed_data.csv', index=False)"
   ]
  }
 ],
 "metadata": {
  "kernelspec": {
   "display_name": ".venv_bd",
   "language": "python",
   "name": "python3"
  },
  "language_info": {
   "codemirror_mode": {
    "name": "ipython",
    "version": 3
   },
   "file_extension": ".py",
   "mimetype": "text/x-python",
   "name": "python",
   "nbconvert_exporter": "python",
   "pygments_lexer": "ipython3",
   "version": "3.10.14"
  }
 },
 "nbformat": 4,
 "nbformat_minor": 2
}
