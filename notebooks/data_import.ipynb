{
 "cells": [
  {
   "cell_type": "markdown",
   "metadata": {},
   "source": [
    "# Data Import Notebook"
   ]
  },
  {
   "cell_type": "code",
   "execution_count": null,
   "metadata": {},
   "outputs": [],
   "source": [
    "# importing\n",
    "import basedosdados as bd"
   ]
  },
  {
   "cell_type": "markdown",
   "metadata": {},
   "source": [
    "## Data Collection"
   ]
  },
  {
   "cell_type": "markdown",
   "metadata": {},
   "source": [
    "### With Procedures"
   ]
  },
  {
   "cell_type": "code",
   "execution_count": null,
   "metadata": {},
   "outputs": [],
   "source": [
    "# data reading\n",
    "df_with_procedures = bd.read_sql(query=''' \n",
    "                            \n",
    "                            SELECT  quantidade_procedimentos,\n",
    "                                    mes,\n",
    "                                    ano,\n",
    "                                    sigla_uf,\n",
    "                                    valor_ato_profissional,\n",
    "                                    id_municipio_estabelecimento_aih,\n",
    "                                    id_municipio_paciente,\n",
    "                                    id_procedimento_principal                        \n",
    "                            FROM    basedosdados.br_ms_sih.servicos_profissionais \n",
    "                            WHERE   ano BETWEEN 2020 AND 2023 AND sigla_uf='RR';\n",
    "                  ''',\n",
    "billing_project_id='projeto-dados-saude',\n",
    "reauth=True\n",
    ")\n",
    "\n",
    "# data saving\n",
    "\n",
    "df_with_procedures.to_csv('../data/01_raw/roraima_with_procedures.csv',index=False)"
   ]
  },
  {
   "cell_type": "markdown",
   "metadata": {},
   "source": [
    "### Without Procedures"
   ]
  },
  {
   "cell_type": "code",
   "execution_count": null,
   "metadata": {},
   "outputs": [],
   "source": [
    "# data reading\n",
    "df_with_procedures = bd.read_sql(query=''' \n",
    "                            \n",
    "                            SELECT  quantidade_procedimentos,\n",
    "                                    mes,\n",
    "                                    ano,\n",
    "                                    sigla_uf,\n",
    "                                    valor_ato_profissional,\n",
    "                                    id_municipio_estabelecimento_aih,\n",
    "                                    id_municipio_paciente                       \n",
    "                            FROM    basedosdados.br_ms_sih.servicos_profissionais \n",
    "                            WHERE   ano BETWEEN 2020 AND 2023 AND sigla_uf='RR';\n",
    "                  ''',\n",
    "billing_project_id='projeto-dados-saude',\n",
    "reauth=True\n",
    ")\n",
    "\n",
    "# data saving\n",
    "\n",
    "df_with_procedures.to_csv('../data/01_raw/roraima.csv',index=False)"
   ]
  }
 ],
 "metadata": {
  "kernelspec": {
   "display_name": ".venv_bd",
   "language": "python",
   "name": "python3"
  },
  "language_info": {
   "codemirror_mode": {
    "name": "ipython",
    "version": 3
   },
   "file_extension": ".py",
   "mimetype": "text/x-python",
   "name": "python",
   "nbconvert_exporter": "python",
   "pygments_lexer": "ipython3",
   "version": "3.10.14"
  }
 },
 "nbformat": 4,
 "nbformat_minor": 2
}
